{
 "cells": [
  {
   "cell_type": "markdown",
   "id": "54930c47-b46e-437a-ae4a-5c8fa4ceaadd",
   "metadata": {
    "tags": []
   },
   "source": [
    "# Section 1:\n",
    "1. Create a dataframe from the `company_list` csv file \n",
    "2. Remove spaces, % and $ sign from `company_list` dataframe.\n",
    "3. Remove the last row of the company_list dataframe.\n",
    "4. Convert the numbers, which are as strings, to floats"
   ]
  },
  {
   "cell_type": "markdown",
   "id": "6f444e5b-e3d6-48d4-a4e8-3bf6e6326406",
   "metadata": {},
   "source": [
    "# Section 2: \n",
    "1. Import all of the stock csv files \n",
    "2. Create a new dataframe called `company_stocks` that is all of the stocks concatonated together except BRKA and BRKB\n"
   ]
  },
  {
   "cell_type": "markdown",
   "id": "1c6f41f1-16e0-4516-a42b-4a56c34768b5",
   "metadata": {
    "tags": []
   },
   "source": [
    "# Section 3\n",
    "1. Create a bar chart of the most recent stock closing price for each stock in the `company_stocks` dataframe\n",
    "2. Create a bar chart 5 companies that Berkshire Hathaway has stake in. This data is in the `company_list` dataframe\n",
    "\n",
    "\n"
   ]
  },
  {
   "cell_type": "markdown",
   "id": "b2b76856-9656-4f8e-9aa7-7aea025f6561",
   "metadata": {
    "tags": []
   },
   "source": [
    "# Section 4: \n",
    "1. In the `company_stocks` dataframe, create a new column called `Yearly Return`. For each stock's closing price, calculate the yearly percent turn as `(closing_price_start_of_this_year - closing_price_start_of_last_year) / closing_price_start_of_last_year`. If there is not a preceeding entry for that stock, mark it 0."
   ]
  },
  {
   "cell_type": "markdown",
   "id": "b6cc04c3-7418-47fc-9de2-3c9acc1c1eb0",
   "metadata": {
    "tags": []
   },
   "source": [
    "# Section 5: \n",
    "1. Import the `stock_profile.csv` data\n",
    "2. Fill in the following missing fields: \n",
    "- Barrick Gold Corporation (GOLD): 18421\n",
    "- The Liberty SiriusXM Group (LSXMA): 6667\n",
    "- The Liberty SiriusXM Group (LSXMK): 6667\n",
    "- StoneCo Ltd. (STNE): 3000\n",
    "3. Drop any rows that are still missing the number of employees\n",
    "4. Merge the stock_profile and company stocks YoY return data together. Create a pivot table that groups the data by industry and shows for each year, the average yearly returns\n",
    "5. Create a line graph that shows the same data."
   ]
  },
  {
   "cell_type": "code",
   "execution_count": null,
   "id": "e7f20504-65a4-460b-a826-063e262085ff",
   "metadata": {},
   "outputs": [],
   "source": []
  }
 ],
 "metadata": {
  "kernelspec": {
   "display_name": "Python 3 (ipykernel)",
   "language": "python",
   "name": "python3"
  },
  "language_info": {
   "codemirror_mode": {
    "name": "ipython",
    "version": 3
   },
   "file_extension": ".py",
   "mimetype": "text/x-python",
   "name": "python",
   "nbconvert_exporter": "python",
   "pygments_lexer": "ipython3",
   "version": "3.9.6"
  }
 },
 "nbformat": 4,
 "nbformat_minor": 5
}
